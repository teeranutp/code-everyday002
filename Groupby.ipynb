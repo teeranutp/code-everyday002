{
  "nbformat": 4,
  "nbformat_minor": 0,
  "metadata": {
    "colab": {
      "name": "Groupby.ipynb",
      "provenance": [],
      "authorship_tag": "ABX9TyNuRUO1EYHhMcgBwCJETe9F",
      "include_colab_link": true
    },
    "kernelspec": {
      "name": "python3",
      "display_name": "Python 3"
    },
    "language_info": {
      "name": "python"
    }
  },
  "cells": [
    {
      "cell_type": "markdown",
      "metadata": {
        "id": "view-in-github",
        "colab_type": "text"
      },
      "source": [
        "<a href=\"https://colab.research.google.com/github/teeranutp/code-everyday002/blob/master/Groupby.ipynb\" target=\"_parent\"><img src=\"https://colab.research.google.com/assets/colab-badge.svg\" alt=\"Open In Colab\"/></a>"
      ]
    },
    {
      "cell_type": "code",
      "metadata": {
        "id": "x4Be48s7sWeW"
      },
      "source": [
        "import numpy as np\n",
        "import pandas as pd"
      ],
      "execution_count": 3,
      "outputs": []
    },
    {
      "cell_type": "code",
      "metadata": {
        "id": "9B6SwuUOsetU"
      },
      "source": [
        "df = pd.read_csv(\"/content/sample_data/california_housing_train.csv\")"
      ],
      "execution_count": 5,
      "outputs": []
    },
    {
      "cell_type": "code",
      "metadata": {
        "colab": {
          "base_uri": "https://localhost:8080/",
          "height": 419
        },
        "id": "86X1uZj8tKPS",
        "outputId": "ea0ad208-19bf-42d1-c868-3c729fbd6670"
      },
      "source": [
        "df[[\"total_bedrooms\"]]"
      ],
      "execution_count": 21,
      "outputs": [
        {
          "output_type": "execute_result",
          "data": {
            "text/html": [
              "<div>\n",
              "<style scoped>\n",
              "    .dataframe tbody tr th:only-of-type {\n",
              "        vertical-align: middle;\n",
              "    }\n",
              "\n",
              "    .dataframe tbody tr th {\n",
              "        vertical-align: top;\n",
              "    }\n",
              "\n",
              "    .dataframe thead th {\n",
              "        text-align: right;\n",
              "    }\n",
              "</style>\n",
              "<table border=\"1\" class=\"dataframe\">\n",
              "  <thead>\n",
              "    <tr style=\"text-align: right;\">\n",
              "      <th></th>\n",
              "      <th>total_bedrooms</th>\n",
              "    </tr>\n",
              "  </thead>\n",
              "  <tbody>\n",
              "    <tr>\n",
              "      <th>0</th>\n",
              "      <td>1283.0</td>\n",
              "    </tr>\n",
              "    <tr>\n",
              "      <th>1</th>\n",
              "      <td>1901.0</td>\n",
              "    </tr>\n",
              "    <tr>\n",
              "      <th>2</th>\n",
              "      <td>174.0</td>\n",
              "    </tr>\n",
              "    <tr>\n",
              "      <th>3</th>\n",
              "      <td>337.0</td>\n",
              "    </tr>\n",
              "    <tr>\n",
              "      <th>4</th>\n",
              "      <td>326.0</td>\n",
              "    </tr>\n",
              "    <tr>\n",
              "      <th>...</th>\n",
              "      <td>...</td>\n",
              "    </tr>\n",
              "    <tr>\n",
              "      <th>16995</th>\n",
              "      <td>394.0</td>\n",
              "    </tr>\n",
              "    <tr>\n",
              "      <th>16996</th>\n",
              "      <td>528.0</td>\n",
              "    </tr>\n",
              "    <tr>\n",
              "      <th>16997</th>\n",
              "      <td>531.0</td>\n",
              "    </tr>\n",
              "    <tr>\n",
              "      <th>16998</th>\n",
              "      <td>552.0</td>\n",
              "    </tr>\n",
              "    <tr>\n",
              "      <th>16999</th>\n",
              "      <td>300.0</td>\n",
              "    </tr>\n",
              "  </tbody>\n",
              "</table>\n",
              "<p>17000 rows × 1 columns</p>\n",
              "</div>"
            ],
            "text/plain": [
              "       total_bedrooms\n",
              "0              1283.0\n",
              "1              1901.0\n",
              "2               174.0\n",
              "3               337.0\n",
              "4               326.0\n",
              "...               ...\n",
              "16995           394.0\n",
              "16996           528.0\n",
              "16997           531.0\n",
              "16998           552.0\n",
              "16999           300.0\n",
              "\n",
              "[17000 rows x 1 columns]"
            ]
          },
          "metadata": {
            "tags": []
          },
          "execution_count": 21
        }
      ]
    },
    {
      "cell_type": "code",
      "metadata": {
        "colab": {
          "base_uri": "https://localhost:8080/",
          "height": 481
        },
        "id": "pc08zIMltLd4",
        "outputId": "4a53d836-8b92-4cff-8b07-90c050d3d422"
      },
      "source": [
        "df.groupby([\"median_house_value\"])[[\"total_bedrooms\",\"median_income\"]].agg([\"min\",\"max\"])"
      ],
      "execution_count": 16,
      "outputs": [
        {
          "output_type": "execute_result",
          "data": {
            "text/html": [
              "<div>\n",
              "<style scoped>\n",
              "    .dataframe tbody tr th:only-of-type {\n",
              "        vertical-align: middle;\n",
              "    }\n",
              "\n",
              "    .dataframe tbody tr th {\n",
              "        vertical-align: top;\n",
              "    }\n",
              "\n",
              "    .dataframe thead tr th {\n",
              "        text-align: left;\n",
              "    }\n",
              "\n",
              "    .dataframe thead tr:last-of-type th {\n",
              "        text-align: right;\n",
              "    }\n",
              "</style>\n",
              "<table border=\"1\" class=\"dataframe\">\n",
              "  <thead>\n",
              "    <tr>\n",
              "      <th></th>\n",
              "      <th colspan=\"2\" halign=\"left\">total_bedrooms</th>\n",
              "      <th colspan=\"2\" halign=\"left\">median_income</th>\n",
              "    </tr>\n",
              "    <tr>\n",
              "      <th></th>\n",
              "      <th>min</th>\n",
              "      <th>max</th>\n",
              "      <th>min</th>\n",
              "      <th>max</th>\n",
              "    </tr>\n",
              "    <tr>\n",
              "      <th>median_house_value</th>\n",
              "      <th></th>\n",
              "      <th></th>\n",
              "      <th></th>\n",
              "      <th></th>\n",
              "    </tr>\n",
              "  </thead>\n",
              "  <tbody>\n",
              "    <tr>\n",
              "      <th>14999.0</th>\n",
              "      <td>28.0</td>\n",
              "      <td>267.0</td>\n",
              "      <td>0.5360</td>\n",
              "      <td>4.1932</td>\n",
              "    </tr>\n",
              "    <tr>\n",
              "      <th>17500.0</th>\n",
              "      <td>168.0</td>\n",
              "      <td>168.0</td>\n",
              "      <td>2.3667</td>\n",
              "      <td>2.3667</td>\n",
              "    </tr>\n",
              "    <tr>\n",
              "      <th>22500.0</th>\n",
              "      <td>73.0</td>\n",
              "      <td>1743.0</td>\n",
              "      <td>0.7917</td>\n",
              "      <td>2.7138</td>\n",
              "    </tr>\n",
              "    <tr>\n",
              "      <th>25000.0</th>\n",
              "      <td>33.0</td>\n",
              "      <td>33.0</td>\n",
              "      <td>0.8571</td>\n",
              "      <td>0.8571</td>\n",
              "    </tr>\n",
              "    <tr>\n",
              "      <th>26600.0</th>\n",
              "      <td>309.0</td>\n",
              "      <td>309.0</td>\n",
              "      <td>2.3013</td>\n",
              "      <td>2.3013</td>\n",
              "    </tr>\n",
              "    <tr>\n",
              "      <th>...</th>\n",
              "      <td>...</td>\n",
              "      <td>...</td>\n",
              "      <td>...</td>\n",
              "      <td>...</td>\n",
              "    </tr>\n",
              "    <tr>\n",
              "      <th>498800.0</th>\n",
              "      <td>269.0</td>\n",
              "      <td>269.0</td>\n",
              "      <td>8.2480</td>\n",
              "      <td>8.2480</td>\n",
              "    </tr>\n",
              "    <tr>\n",
              "      <th>499000.0</th>\n",
              "      <td>735.0</td>\n",
              "      <td>735.0</td>\n",
              "      <td>8.1489</td>\n",
              "      <td>8.1489</td>\n",
              "    </tr>\n",
              "    <tr>\n",
              "      <th>499100.0</th>\n",
              "      <td>297.0</td>\n",
              "      <td>297.0</td>\n",
              "      <td>6.7861</td>\n",
              "      <td>6.7861</td>\n",
              "    </tr>\n",
              "    <tr>\n",
              "      <th>500000.0</th>\n",
              "      <td>41.0</td>\n",
              "      <td>1330.0</td>\n",
              "      <td>1.2656</td>\n",
              "      <td>6.0199</td>\n",
              "    </tr>\n",
              "    <tr>\n",
              "      <th>500001.0</th>\n",
              "      <td>1.0</td>\n",
              "      <td>2611.0</td>\n",
              "      <td>0.4999</td>\n",
              "      <td>15.0001</td>\n",
              "    </tr>\n",
              "  </tbody>\n",
              "</table>\n",
              "<p>3694 rows × 4 columns</p>\n",
              "</div>"
            ],
            "text/plain": [
              "                   total_bedrooms         median_income         \n",
              "                              min     max           min      max\n",
              "median_house_value                                              \n",
              "14999.0                      28.0   267.0        0.5360   4.1932\n",
              "17500.0                     168.0   168.0        2.3667   2.3667\n",
              "22500.0                      73.0  1743.0        0.7917   2.7138\n",
              "25000.0                      33.0    33.0        0.8571   0.8571\n",
              "26600.0                     309.0   309.0        2.3013   2.3013\n",
              "...                           ...     ...           ...      ...\n",
              "498800.0                    269.0   269.0        8.2480   8.2480\n",
              "499000.0                    735.0   735.0        8.1489   8.1489\n",
              "499100.0                    297.0   297.0        6.7861   6.7861\n",
              "500000.0                     41.0  1330.0        1.2656   6.0199\n",
              "500001.0                      1.0  2611.0        0.4999  15.0001\n",
              "\n",
              "[3694 rows x 4 columns]"
            ]
          },
          "metadata": {
            "tags": []
          },
          "execution_count": 16
        }
      ]
    }
  ]
}